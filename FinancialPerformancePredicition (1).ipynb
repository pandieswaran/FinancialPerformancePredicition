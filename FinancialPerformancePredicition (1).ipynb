{
  "nbformat": 4,
  "nbformat_minor": 0,
  "metadata": {
    "colab": {
      "provenance": []
    },
    "kernelspec": {
      "name": "python3",
      "display_name": "Python 3"
    },
    "language_info": {
      "name": "python"
    }
  },
  "cells": [
    {
      "cell_type": "code",
      "execution_count": 15,
      "metadata": {
        "id": "dI1S_9EwabIl"
      },
      "outputs": [],
      "source": [
        "import numpy as np\n",
        "import pandas as pd\n",
        "from xgboost import XGBRegressor\n"
      ]
    },
    {
      "cell_type": "code",
      "source": [
        "train = pd.read_csv('/content/train.csv')\n",
        "test = pd.read_csv('/content/test.csv')\n"
      ],
      "metadata": {
        "id": "uS0-z3Lbam3q"
      },
      "execution_count": 2,
      "outputs": []
    },
    {
      "cell_type": "code",
      "source": [
        "print(f'Train shape: {train.shape}')\n",
        "print(f'Test shape: {test.shape}')\n"
      ],
      "metadata": {
        "colab": {
          "base_uri": "https://localhost:8080/"
        },
        "id": "07YSzjqDasfW",
        "outputId": "ece9cae7-893e-49bb-8db0-3c44d7e4c746"
      },
      "execution_count": 3,
      "outputs": [
        {
          "output_type": "stream",
          "name": "stdout",
          "text": [
            "Train shape: (1624, 212)\n",
            "Test shape: (406, 203)\n"
          ]
        }
      ]
    },
    {
      "cell_type": "code",
      "source": [
        "train['is_train'] = True\n",
        "test['is_train'] = False\n",
        "\n",
        "df = pd.concat([train, test], axis=0, ignore_index=True)\n"
      ],
      "metadata": {
        "id": "3zpyfEUVauJP"
      },
      "execution_count": 4,
      "outputs": []
    },
    {
      "cell_type": "code",
      "source": [
        "# Binarize column\n",
        "def binarize(df, col):\n",
        "    uniques = list(df[col].dropna().unique())\n",
        "    df[col] = [1 if val == uniques[0] else 0 for val in df[col]]\n",
        "    return df\n",
        "\n",
        "# One-hot encode column using sklearn\n",
        "from sklearn.preprocessing import OneHotEncoder\n",
        "\n",
        "def one_hot_encode_sklearn(df, col):\n",
        "    data = df[[col]].values.reshape(-1, 1)\n",
        "    encoder = OneHotEncoder(sparse_output=False)\n",
        "    encoded_data = encoder.fit_transform(data)\n",
        "    encoded_df = pd.DataFrame(encoded_data, columns=[f\"{col}_{val}\" for val in encoder.categories_[0]])\n",
        "    df = df.drop(columns=[col])\n",
        "    df = pd.concat([df, encoded_df], axis=1)\n",
        "    return df\n",
        "\n",
        "# Factorize column\n",
        "def factorize(df, col):\n",
        "    mapping = {name: i for i, name in enumerate(df[col].unique())}\n",
        "    df[col] = df[col].map(mapping)\n",
        "    return df\n"
      ],
      "metadata": {
        "id": "SVr5txa4a3H_"
      },
      "execution_count": 6,
      "outputs": []
    },
    {
      "cell_type": "code",
      "source": [
        "df = binarize(df, 'financialCurrency')\n",
        "df = one_hot_encode_sklearn(df, 'sector')\n",
        "df = one_hot_encode_sklearn(df, 'recommendationKey')\n",
        "df = factorize(df, 'industry')\n"
      ],
      "metadata": {
        "id": "NUXB3y1tawJd"
      },
      "execution_count": 7,
      "outputs": []
    },
    {
      "cell_type": "code",
      "source": [
        "# Impute missing values by median\n",
        "def impute_missing_by_median(df):\n",
        "    df.replace([np.inf, -np.inf], np.nan, inplace=True)\n",
        "    for col in df:\n",
        "        if np.any(df[col].isnull()):\n",
        "            df[col] = df[col].fillna(df[col].median())\n",
        "    print(f'Missing values after imputation: {sum(df.isnull().sum())}')\n",
        "    return df\n"
      ],
      "metadata": {
        "id": "lURDun6ra_GP"
      },
      "execution_count": 9,
      "outputs": []
    },
    {
      "cell_type": "code",
      "source": [
        "df = impute_missing_by_median(df)\n"
      ],
      "metadata": {
        "colab": {
          "base_uri": "https://localhost:8080/"
        },
        "id": "_N-MJp9Ea63m",
        "outputId": "1a165046-26d5-446d-80ad-269f44a0d771"
      },
      "execution_count": 10,
      "outputs": [
        {
          "output_type": "stream",
          "name": "stdout",
          "text": [
            "Missing values after imputation: 0\n"
          ]
        }
      ]
    },
    {
      "cell_type": "code",
      "source": [
        "train = df[df['is_train'] == True].copy()\n",
        "test = df[df['is_train'] == False].copy()\n"
      ],
      "metadata": {
        "id": "Bykb1fEobBUC"
      },
      "execution_count": 12,
      "outputs": []
    },
    {
      "cell_type": "code",
      "source": [
        "train = train.drop('is_train', axis=1)\n",
        "test = test.drop('is_train', axis=1)\n"
      ],
      "metadata": {
        "id": "83jW_qhSbEKQ"
      },
      "execution_count": 13,
      "outputs": []
    },
    {
      "cell_type": "code",
      "source": [
        "# Define target_names\n",
        "target_names = [col for col in train.columns if col not in test.columns]\n",
        "\n",
        "# Assuming 'targets_names' is a list of column names, we want to drop from 'test'\n",
        "test = test.drop(target_names, axis=1)\n",
        "\n",
        "# Copying the target columns from train before dropping them\n",
        "targets = train[target_names].copy()\n",
        "\n",
        "train = train.drop(target_names, axis=1)\n"
      ],
      "metadata": {
        "id": "olURTg6cbSQE"
      },
      "execution_count": 18,
      "outputs": []
    },
    {
      "cell_type": "code",
      "source": [
        "model = XGBRegressor()\n",
        "cross_val_score_results = {}\n",
        "\n",
        "for target in targets:\n",
        "    score = np.round(np.mean(cvs(model, train, targets[target], cv=3, scoring='r2')),2)\n",
        "    cross_val_score_results[target] = score\n",
        "    print(f'{target} -> {score}')\n"
      ],
      "metadata": {
        "id": "BEbhoD3MbGa3"
      },
      "execution_count": 19,
      "outputs": []
    },
    {
      "cell_type": "code",
      "source": [
        "preds = {}\n",
        "for target in targets:\n",
        "    model.fit(train, targets[target])\n",
        "    pred = model.predict(test)\n",
        "    preds[target] = pred\n",
        "    print(f'Finished train/predict for: {target}')\n"
      ],
      "metadata": {
        "id": "w9gOcVpnbYTX"
      },
      "execution_count": 20,
      "outputs": []
    },
    {
      "cell_type": "code",
      "source": [
        "sub = pd.read_csv('/content/sample_submission.csv')\n",
        "\n",
        "# Assuming 'preds' is a dictionary containing your predictions for each target\n",
        "for target in preds:\n",
        "    sub[target] = preds[target]\n",
        "\n",
        "# Save the submission file locally\n",
        "sub.to_csv('submission.csv', index=False)\n"
      ],
      "metadata": {
        "id": "3CNMJCHrbbVr"
      },
      "execution_count": 21,
      "outputs": []
    },
    {
      "cell_type": "code",
      "source": [
        "from google.colab import files\n",
        "\n",
        "files.download('submission.csv')\n"
      ],
      "metadata": {
        "colab": {
          "base_uri": "https://localhost:8080/",
          "height": 17
        },
        "id": "9pUY6BHrbyPd",
        "outputId": "8dc2dbf4-1245-44a9-9269-d2a698f1c869"
      },
      "execution_count": 22,
      "outputs": [
        {
          "output_type": "display_data",
          "data": {
            "text/plain": [
              "<IPython.core.display.Javascript object>"
            ],
            "application/javascript": [
              "\n",
              "    async function download(id, filename, size) {\n",
              "      if (!google.colab.kernel.accessAllowed) {\n",
              "        return;\n",
              "      }\n",
              "      const div = document.createElement('div');\n",
              "      const label = document.createElement('label');\n",
              "      label.textContent = `Downloading \"${filename}\": `;\n",
              "      div.appendChild(label);\n",
              "      const progress = document.createElement('progress');\n",
              "      progress.max = size;\n",
              "      div.appendChild(progress);\n",
              "      document.body.appendChild(div);\n",
              "\n",
              "      const buffers = [];\n",
              "      let downloaded = 0;\n",
              "\n",
              "      const channel = await google.colab.kernel.comms.open(id);\n",
              "      // Send a message to notify the kernel that we're ready.\n",
              "      channel.send({})\n",
              "\n",
              "      for await (const message of channel.messages) {\n",
              "        // Send a message to notify the kernel that we're ready.\n",
              "        channel.send({})\n",
              "        if (message.buffers) {\n",
              "          for (const buffer of message.buffers) {\n",
              "            buffers.push(buffer);\n",
              "            downloaded += buffer.byteLength;\n",
              "            progress.value = downloaded;\n",
              "          }\n",
              "        }\n",
              "      }\n",
              "      const blob = new Blob(buffers, {type: 'application/binary'});\n",
              "      const a = document.createElement('a');\n",
              "      a.href = window.URL.createObjectURL(blob);\n",
              "      a.download = filename;\n",
              "      div.appendChild(a);\n",
              "      a.click();\n",
              "      div.remove();\n",
              "    }\n",
              "  "
            ]
          },
          "metadata": {}
        },
        {
          "output_type": "display_data",
          "data": {
            "text/plain": [
              "<IPython.core.display.Javascript object>"
            ],
            "application/javascript": [
              "download(\"download_9f4f73f0-475a-4a22-9a3d-29b436e94531\", \"submission.csv\", 9291)"
            ]
          },
          "metadata": {}
        }
      ]
    },
    {
      "cell_type": "code",
      "source": [
        "# Save your DataFrame (sub) to a CSV file\n",
        "sub.to_csv('/content/submission.csv', index=False)\n"
      ],
      "metadata": {
        "id": "YpRHn8lcd0nx"
      },
      "execution_count": 23,
      "outputs": []
    },
    {
      "cell_type": "code",
      "source": [
        "sub.to_csv('/content/submission.csv', index=False)\n"
      ],
      "metadata": {
        "id": "6BKq6w5Jd_YB"
      },
      "execution_count": 24,
      "outputs": []
    }
  ]
}